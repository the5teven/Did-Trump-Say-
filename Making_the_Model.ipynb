{
 "cells": [
  {
   "cell_type": "markdown",
   "metadata": {},
   "source": [
    "<h1><center>Did the 45th President of the United States Tweet it?</center></h1>\n",
    "<h3><center>by: steven otis</center></h3>"
   ]
  },
  {
   "cell_type": "markdown",
   "metadata": {},
   "source": [
    "<h2>Data Classes</h2>"
   ]
  },
  {
   "cell_type": "code",
   "execution_count": 1,
   "metadata": {},
   "outputs": [],
   "source": [
    "import random\n",
    "class Who:\n",
    "    TRUMP = 'TRUMP'\n",
    "    NOT_TRUMP = 'NOT_TRUMP'\n",
    "class Tweet:\n",
    "    def __init__(self,text,by):\n",
    "        self.text = text\n",
    "        self.by = by\n",
    "        self.who = self.get_who()\n",
    "    def get_who(self):\n",
    "        if  self.by == 'Trump':\n",
    "            return Who.TRUMP\n",
    "        elif self.by == 'Not Trump':\n",
    "            return Who.NOT_TRUMP\n",
    "class TweetContainer:\n",
    "    def __init__(self,tweets):\n",
    "        self.tweets = tweets\n",
    "    def get_text(self):\n",
    "        return [x.text for x in self.tweets]\n",
    "    def get_who(self):\n",
    "        return [x.who for x in self.tweets]\n",
    "    def shuffle(self):\n",
    "        random.shuffle(self.tweets)\n",
    "        \n",
    "    "
   ]
  },
  {
   "cell_type": "markdown",
   "metadata": {},
   "source": [
    "<h2>Load Data</h2>"
   ]
  },
  {
   "cell_type": "code",
   "execution_count": 2,
   "metadata": {},
   "outputs": [],
   "source": [
    "import pandas as pd\n",
    "\n",
    "\n",
    "df =pd.read_csv('./data/trumpandrandomtweets.csv')"
   ]
  },
  {
   "cell_type": "code",
   "execution_count": 3,
   "metadata": {},
   "outputs": [
    {
     "name": "stdout",
     "output_type": "stream",
     "text": [
      "text:  @ cmedenise Thanks.\n",
      "who:  TRUMP\n"
     ]
    }
   ],
   "source": [
    "tweets = []\n",
    "for row in df.itertuples():\n",
    "    tweets.append(Tweet(row[1],row[2]))\n",
    "print('text: ',tweets[0].text)\n",
    "print('who: ',tweets[0].who)"
   ]
  },
  {
   "cell_type": "markdown",
   "metadata": {},
   "source": [
    "<h2>Prep Data</h2>"
   ]
  },
  {
   "cell_type": "code",
   "execution_count": 4,
   "metadata": {},
   "outputs": [],
   "source": [
    "from sklearn.model_selection import train_test_split\n",
    "\n",
    "training, test = train_test_split(tweets,test_size=0.33,random_state=42)\n",
    "\n",
    "train_container = TweetContainer(training)\n",
    "test_container = TweetContainer(test)"
   ]
  },
  {
   "cell_type": "code",
   "execution_count": 5,
   "metadata": {},
   "outputs": [
    {
     "name": "stdout",
     "output_type": "stream",
     "text": [
      "28383\n",
      "28292\n"
     ]
    }
   ],
   "source": [
    "train_container.shuffle()\n",
    "train_x = train_container.get_text()\n",
    "train_y = train_container.get_who()\n",
    "\n",
    "test_container.shuffle()\n",
    "test_x = test_container.get_text()\n",
    "test_y = test_container.get_who()\n",
    "\n",
    "print(train_y.count(Who.TRUMP))\n",
    "print(train_y.count(Who.NOT_TRUMP))"
   ]
  },
  {
   "cell_type": "code",
   "execution_count": 6,
   "metadata": {},
   "outputs": [
    {
     "name": "stdout",
     "output_type": "stream",
     "text": [
      ". @ SbelSbel3555 Sorry, @ piersmorgan is a very smart guy!\n",
      "[[0. 0. 0. ... 0. 0. 0.]]\n"
     ]
    }
   ],
   "source": [
    "from sklearn.feature_extraction.text import TfidfVectorizer\n",
    "\n",
    "vectorizer = TfidfVectorizer()\n",
    "train_x_vectors = vectorizer.fit_transform(train_x)\n",
    "\n",
    "test_x_vectors = vectorizer.transform(test_x)\n",
    "\n",
    "print(train_x[0])\n",
    "print(train_x_vectors[0].toarray())"
   ]
  },
  {
   "cell_type": "markdown",
   "metadata": {},
   "source": [
    "<h2>Classification </h2>"
   ]
  },
  {
   "cell_type": "markdown",
   "metadata": {},
   "source": [
    "<h4>Linear SVM</h4>"
   ]
  },
  {
   "cell_type": "code",
   "execution_count": 7,
   "metadata": {},
   "outputs": [],
   "source": [
    "import numpy as np\n",
    "from sklearn.pipeline import Pipeline\n",
    "from sklearn.model_selection import GridSearchCV\n",
    "from sklearn.linear_model import LogisticRegression"
   ]
  },
  {
   "cell_type": "code",
   "execution_count": null,
   "metadata": {},
   "outputs": [],
   "source": [
    "# optional grid search for parms \n",
    "logModel = linear_model.LogisticRegression()\n",
    "\n",
    "param_grid = [    \n",
    "    {'penalty' : ['l1', 'l2', 'elasticnet', 'none'],\n",
    "    'C' : np.logspace(-4, 4, 20),\n",
    "    'solver' : ['lbfgs','newton-cg','liblinear','sag','saga'],\n",
    "    'max_iter' : [100, 1000,2500, 5000]\n",
    "    }\n",
    "]\n",
    "clf = GridSearchCV(logModel, param_grid = param_grid, cv = 3, verbose=True, n_jobs=-1)\n",
    "clf.fit(train_x_vectors,train_y)"
   ]
  },
  {
   "cell_type": "code",
   "execution_count": 8,
   "metadata": {},
   "outputs": [
    {
     "data": {
      "text/plain": [
       "LogisticRegression(C=29.763514416313132, class_weight=None, dual=False,\n",
       "                   fit_intercept=True, intercept_scaling=1, l1_ratio=None,\n",
       "                   max_iter=1000, multi_class='auto', n_jobs=-1, penalty='l2',\n",
       "                   random_state=None, solver='saga', tol=0.0001, verbose=0,\n",
       "                   warm_start=False)"
      ]
     },
     "execution_count": 8,
     "metadata": {},
     "output_type": "execute_result"
    }
   ],
   "source": [
    "# fit model with pre found best prarms.\n",
    "clf = LogisticRegression(C = 29.763514416313132, max_iter = 1000, penalty = 'l2', solver = 'saga', n_jobs=-1)\n",
    "clf.fit(train_x_vectors,train_y)\n"
   ]
  },
  {
   "cell_type": "markdown",
   "metadata": {},
   "source": [
    "<h2>Evaluation</h2>"
   ]
  },
  {
   "cell_type": "code",
   "execution_count": 9,
   "metadata": {},
   "outputs": [
    {
     "name": "stdout",
     "output_type": "stream",
     "text": [
      "Mean Accuracy:  0.9650725416442772\n",
      "F1 Scores:  [0.96498222 0.9651624 ]\n"
     ]
    }
   ],
   "source": [
    "print('Mean Accuracy: ',clf.score(test_x_vectors,test_y))\n",
    "\n",
    "from sklearn.metrics import f1_score\n",
    "print('F1 Scores: ',f1_score(test_y,clf.predict(test_x_vectors),average=None,labels=[Who.TRUMP,Who.NOT_TRUMP]))\n"
   ]
  },
  {
   "cell_type": "code",
   "execution_count": 10,
   "metadata": {},
   "outputs": [
    {
     "name": "stdout",
     "output_type": "stream",
     "text": [
      "forgot what sunshine felty like. I am beet red literally. Bad sunburn. Not fun \n",
      "['NOT_TRUMP']\n"
     ]
    }
   ],
   "source": [
    "new_test = vectorizer.transform([test_x[1]])\n",
    "print(test_x[1])\n",
    "print(clf.predict(new_test))"
   ]
  },
  {
   "cell_type": "markdown",
   "metadata": {},
   "source": [
    "<h2>Saving Model</h2>"
   ]
  },
  {
   "cell_type": "code",
   "execution_count": 11,
   "metadata": {},
   "outputs": [],
   "source": [
    "#save model\n",
    "import pickle\n",
    "\n",
    "Save_folder = './Models'\n",
    "\n",
    "with open (Save_folder+'/trump_classifier.pkl','wb') as f:\n",
    "    pickle.dump(clf,f)\n",
    "with open (Save_folder+'/vectorizer.pkl','wb') as f:\n",
    "    pickle.dump(vectorizer,f)"
   ]
  },
  {
   "cell_type": "markdown",
   "metadata": {},
   "source": [
    "<h2>Load Model</h2>"
   ]
  },
  {
   "cell_type": "code",
   "execution_count": 12,
   "metadata": {},
   "outputs": [],
   "source": [
    "#load model\n",
    "import pickle\n",
    "load_folder ='./Models'\n",
    "with open (load_folder+'/trump_classifier.pkl','rb') as f:\n",
    "    loaded_clf = pickle.load(f)\n",
    "#load vectorizer\n",
    "with open (load_folder+'/vectorizer.pkl','rb') as f:\n",
    "    loaded_vectorizer = pickle.load(f)"
   ]
  },
  {
   "cell_type": "markdown",
   "metadata": {},
   "source": [
    "<h2>Predictions</h2>"
   ]
  },
  {
   "cell_type": "code",
   "execution_count": 13,
   "metadata": {},
   "outputs": [
    {
     "data": {
      "application/vnd.jupyter.widget-view+json": {
       "model_id": "4494c33071f341bd88fe464d938955ce",
       "version_major": 2,
       "version_minor": 0
      },
      "text/plain": [
       "Text(value='', description='Tweet')"
      ]
     },
     "metadata": {},
     "output_type": "display_data"
    }
   ],
   "source": [
    "from ipywidgets import widgets\n",
    "from IPython.display import clear_output,display,HTML\n",
    "\n",
    "clf = loaded_clf\n",
    "vectorizor = loaded_vectorizer\n",
    "\n",
    "def did_he_say(text,clf,vectorizor):\n",
    "    v_text = vectorizor.transform([text])\n",
    "    prediction = clf.predict(v_text)\n",
    "    return(prediction[0])\n",
    "\n",
    "def display_prediction(predict):\n",
    "    if did_he_say(predict.value) == Who.TRUMP:\n",
    "            display(HTML('<h3><font color=\"blue\">\"{}\"</font></h2> <h2>That <font color=\"green\">DOES</font> Sounds like <font color=\"red\">TRUMP</font></h2>'.format(predict.value)))\n",
    "\n",
    "    elif did_he_say(predict.value) == Who.NOT_TRUMP:\n",
    "        display(HTML('<h3><font color=\"blue\">\"{}\"</font></h2><h2>Does <font color=\"red\">NOT</font> Sounds like <font color=\"red\">TRUMP</font><h2>'.format(predict.value)))\n",
    "        \n",
    "input_text = widgets.Text(description=\"Tweet\")\n",
    "display(input_text)\n",
    "input_text.on_submit(display_prediction)"
   ]
  }
 ],
 "metadata": {
  "kernelspec": {
   "display_name": "Python 3",
   "language": "python",
   "name": "python3"
  },
  "language_info": {
   "codemirror_mode": {
    "name": "ipython",
    "version": 3
   },
   "file_extension": ".py",
   "mimetype": "text/x-python",
   "name": "python",
   "nbconvert_exporter": "python",
   "pygments_lexer": "ipython3",
   "version": "3.7.3"
  }
 },
 "nbformat": 4,
 "nbformat_minor": 4
}
